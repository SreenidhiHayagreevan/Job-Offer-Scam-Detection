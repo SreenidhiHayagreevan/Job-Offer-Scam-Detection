{
  "nbformat": 4,
  "nbformat_minor": 0,
  "metadata": {
    "colab": {
      "provenance": []
    },
    "kernelspec": {
      "name": "python3",
      "display_name": "Python 3"
    },
    "language_info": {
      "name": "python"
    }
  },
  "cells": [
    {
      "cell_type": "markdown",
      "source": [
        "Implementation of linear kernel SVM with these key parameters:\n",
        "kernel='linear':\n",
        "Uses a linear decision boundary\n",
        "C=1.0: Regularization parameter (balance between margin width and classification errors)\n"
      ],
      "metadata": {
        "id": "Ybmoh7wqVyH_"
      }
    },
    {
      "cell_type": "code",
      "execution_count": null,
      "metadata": {
        "colab": {
          "base_uri": "https://localhost:8080/"
        },
        "id": "AxaqAckgRlBy",
        "outputId": "18a9a65d-d9f1-4495-99c9-739c92cc175d"
      },
      "outputs": [
        {
          "output_type": "stream",
          "name": "stdout",
          "text": [
            "telecommuting                                     int64\n",
            "has_company_logo                                  int64\n",
            "has_questions                                     int64\n",
            "has_links_without_https                         float64\n",
            "Identity_details_asked                          float64\n",
            "payment_asked                                   float64\n",
            "average_days_between_interview_and_job_offer    float64\n",
            "no_of_interview_rounds                          float64\n",
            "avg_no_of_time_sensitive_details                float64\n",
            "avg_no_of_baity_phrases                         float64\n",
            "dtype: object\n",
            "\n",
            "Model Evaluation:\n",
            "Accuracy: 0.9650447427293065\n",
            "\n",
            "Classification Report:\n",
            "              precision    recall  f1-score   support\n",
            "\n",
            "           0       0.97      1.00      0.98      3335\n",
            "           1       0.93      0.52      0.67       241\n",
            "\n",
            "    accuracy                           0.97      3576\n",
            "   macro avg       0.95      0.76      0.82      3576\n",
            "weighted avg       0.96      0.97      0.96      3576\n",
            "\n"
          ]
        }
      ],
      "source": [
        "import pandas as pd\n",
        "from sklearn.model_selection import train_test_split\n",
        "from sklearn.preprocessing import StandardScaler\n",
        "from sklearn.svm import SVC\n",
        "from sklearn.metrics import classification_report, accuracy_score\n",
        "\n",
        "# Load the dataset\n",
        "df = pd.read_csv('cleaned_dataset (1).csv')\n",
        "\n",
        "# Select relevant features - focusing on numerical and clear scam indicators\n",
        "features = [\n",
        "       'telecommuting', 'has_company_logo', 'has_questions',\n",
        "    'has_links_without_https', 'Identity_details_asked', 'payment_asked',\n",
        "    'average_days_between_interview_and_job_offer', 'no_of_interview_rounds',\n",
        "    'avg_no_of_time_sensitive_details', 'avg_no_of_baity_phrases'\n",
        "\n",
        "]\n",
        "\n",
        "# Target variable\n",
        "target = 'is_scam'\n",
        "\n",
        "# Handle missing values and convert 'No' to 0\n",
        "for feature in features:\n",
        "    # Convert string 'No' to 0 (assuming it represents False/No)\n",
        "    if df[feature].dtype == 'object':\n",
        "        df[feature] = df[feature].replace('No', 0)\n",
        "        # Convert the column to numeric (in case there are other non-numeric values)\n",
        "        df[feature] = pd.to_numeric(df[feature], errors='coerce')\n",
        "\n",
        "    # Fill any remaining NaN values with 0 (or another appropriate value)\n",
        "    df[feature] = df[feature].fillna(0)\n",
        "\n",
        "# Prepare features and target\n",
        "X = df[features]\n",
        "y = df[target]\n",
        "\n",
        "# Check data types to ensure all are numeric\n",
        "print(X.dtypes)\n",
        "\n",
        "# Split data into training and testing sets\n",
        "X_train, X_test, y_train, y_test = train_test_split(X, y, test_size=0.2, random_state=42)\n",
        "\n",
        "# Standardize the features\n",
        "scaler = StandardScaler()\n",
        "X_train_scaled = scaler.fit_transform(X_train)\n",
        "X_test_scaled = scaler.transform(X_test)\n",
        "\n",
        "# Initialize and train the SVM model\n",
        "svm_model = SVC(kernel='linear', C=1.0, random_state=42)\n",
        "svm_model.fit(X_train_scaled, y_train)\n",
        "\n",
        "# Make predictions\n",
        "y_pred = svm_model.predict(X_test_scaled)\n",
        "\n",
        "# Evaluate the model\n",
        "print(\"\\nModel Evaluation:\")\n",
        "print(\"Accuracy:\", accuracy_score(y_test, y_pred))\n",
        "print(\"\\nClassification Report:\")\n",
        "print(classification_report(y_test, y_pred))"
      ]
    },
    {
      "cell_type": "code",
      "source": [
        "import joblib\n",
        "import os\n",
        "\n",
        "# Create directory if it doesn't exist\n",
        "os.makedirs('backend/model', exist_ok=True)\n",
        "\n",
        "# Now save your files\n",
        "joblib.dump(svm_model, 'backend/model/svm_scam_detector.joblib')\n",
        "joblib.dump(scaler, 'backend/model/scaler.joblib')\n",
        "\n",
        "print(\"Files saved successfully in backend/model/\")"
      ],
      "metadata": {
        "colab": {
          "base_uri": "https://localhost:8080/"
        },
        "id": "G1vrDHpITUel",
        "outputId": "515ebdd1-3cde-4457-9a78-e3d870150f3d"
      },
      "execution_count": null,
      "outputs": [
        {
          "output_type": "stream",
          "name": "stdout",
          "text": [
            "Files saved successfully in backend/model/\n"
          ]
        }
      ]
    },
    {
      "cell_type": "code",
      "source": [
        "# Run this in your notebook to confirm the files exist\n",
        "import os\n",
        "print(\"Files in backend/model:\", os.listdir('backend/model'))"
      ],
      "metadata": {
        "id": "7jL2A_L0VGLZ",
        "outputId": "6739039f-a0b0-446b-b136-aeb68e7e18ff",
        "colab": {
          "base_uri": "https://localhost:8080/"
        }
      },
      "execution_count": null,
      "outputs": [
        {
          "output_type": "stream",
          "name": "stdout",
          "text": [
            "Files in backend/model: ['svm_scam_detector.joblib', 'scaler.joblib']\n"
          ]
        }
      ]
    }
  ]
}
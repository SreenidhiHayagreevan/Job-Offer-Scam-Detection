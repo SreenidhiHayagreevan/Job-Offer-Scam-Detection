{
  "nbformat": 4,
  "nbformat_minor": 0,
  "metadata": {
    "colab": {
      "provenance": []
    },
    "kernelspec": {
      "name": "python3",
      "display_name": "Python 3"
    },
    "language_info": {
      "name": "python"
    }
  },
  "cells": [
    {
      "cell_type": "code",
      "source": [
        "from google.colab import drive\n",
        "import pandas as pd\n",
        "\n",
        "# Mount Google Drive\n",
        "drive.mount('/content/drive')\n",
        "\n",
        "# Path to your file\n",
        "model_path = '/content/drive/MyDrive/DATA245-Machine-Learning-Group(3)/ML_Project/grid_rf_model.pkl'\n"
      ],
      "metadata": {
        "colab": {
          "base_uri": "https://localhost:8080/"
        },
        "id": "RmkMm2UaQolJ",
        "outputId": "e4f4a7ee-9302-4490-d6be-52fc351e4360"
      },
      "execution_count": null,
      "outputs": [
        {
          "output_type": "stream",
          "name": "stdout",
          "text": [
            "Mounted at /content/drive\n"
          ]
        }
      ]
    },
    {
      "cell_type": "code",
      "execution_count": null,
      "metadata": {
        "colab": {
          "base_uri": "https://localhost:8080/"
        },
        "id": "KN4lbMjOf0WK",
        "outputId": "1971ef36-96c7-4545-c456-f4d5eedabc46"
      },
      "outputs": [
        {
          "output_type": "stream",
          "name": "stdout",
          "text": [
            "Predicted Class: Legitimate\n",
            "Predicted Probabilities: Legitimate = 0.8838, Scam = 0.1162\n"
          ]
        }
      ],
      "source": [
        "import joblib\n",
        "\n",
        "loaded_model = joblib.load(model_path)\n",
        "\n",
        "new_row_data = pd.DataFrame([{\n",
        "    'title': 7050,                # title present (good)\n",
        "    'location': 1642,             # location filled (good)\n",
        "    'department': 812,            # department mentioned (good)\n",
        "    'salary_range': 950,          # salary specified (ok)\n",
        "    'telecommuting': 0,           # onsite job (normal)\n",
        "    'has_company_logo': 1,        # logo present (positive)\n",
        "    'has_questions': 1,           # screening questions present (good)\n",
        "    'employment_type': 1,         # employment type specified (good)\n",
        "    'required_experience': 3,     # experience requirement (normal)\n",
        "    'required_education': 4,      # education requirement (normal)\n",
        "    'industry': 120,              # clear industry (good)\n",
        "    'function': 30,               # common function (normal)\n",
        "    'non_https_links': 1.0,       # has 1 non-https link (warning)\n",
        "    'id_info_requested': 1.0,     # ID info asked (major warning)\n",
        "    'avg_days_offer': 40,         # slow offer (good)\n",
        "    'avg_urgent_terms': 0,        # no urgent terms (good)\n",
        "    'avg_bait_phrases': 1         # mild baiting (minor risk)\n",
        "}])\n",
        "\n",
        "\n",
        "y_pred = loaded_model.predict(new_row_data)\n",
        "y_proba = loaded_model.predict_proba(new_row_data)\n",
        "\n",
        "predicted_class = 'Fraudulent' if y_pred[0] == 1 else 'Legitimate'\n",
        "\n",
        "print(f\"Predicted Class: {predicted_class}\")\n",
        "print(f\"Predicted Probabilities: Legitimate = {y_proba[0][0]:.4f}, Scam = {y_proba[0][1]:.4f}\")\n"
      ]
    },
    {
      "cell_type": "code",
      "source": [
        "new_row_data = pd.DataFrame([{\n",
        "    'title': 5020,                # common title ID\n",
        "    'location': 1200,             # popular city\n",
        "    'department': 620,            # active department\n",
        "    'salary_range': 800,          # realistic salary\n",
        "    'telecommuting': 0,           # mostly on-site\n",
        "    'has_company_logo': 1,        # company has a logo\n",
        "    'has_questions': 1,           # screening questions asked\n",
        "    'employment_type': 1,         # full-time\n",
        "    'required_experience': 2,     # mid-level experience\n",
        "    'required_education': 3,      # bachelor's degree\n",
        "    'industry': 90,               # common industry\n",
        "    'function': 20,               # standard job function\n",
        "    'non_https_links': 0.0,       # no suspicious links\n",
        "    'id_info_requested': 0.0,     # no ID asked\n",
        "    'avg_days_offer': 14,         # 2 weeks (normal)\n",
        "    'avg_urgent_terms': 0,        # no urgency\n",
        "    'avg_bait_phrases': 0         # no bait phrases\n",
        "}])\n",
        "\n",
        "y_pred = loaded_model.predict(new_row_data)\n",
        "y_proba = loaded_model.predict_proba(new_row_data)\n",
        "\n",
        "predicted_class = 'Fraudulent' if y_pred[0] == 1 else 'Legitimate'\n",
        "\n",
        "print(f\"Predicted Class: {predicted_class}\")\n",
        "print(f\"Predicted Probabilities: Legitimate = {y_proba[0][0]:.4f}, Scam = {y_proba[0][1]:.4f}\")\n"
      ],
      "metadata": {
        "id": "fb8dcieSheL7",
        "colab": {
          "base_uri": "https://localhost:8080/"
        },
        "outputId": "27b02028-9fc4-4ddf-ad1d-676acd0abc37"
      },
      "execution_count": null,
      "outputs": [
        {
          "output_type": "stream",
          "name": "stdout",
          "text": [
            "Predicted Class: Legitimate\n",
            "Predicted Probabilities: Legitimate = 0.9814, Scam = 0.0186\n"
          ]
        }
      ]
    },
    {
      "cell_type": "code",
      "source": [
        "new_row_data = pd.DataFrame([{\n",
        "    'title': 6300,                # generic job title\n",
        "    'location': 1500,             # mid-range location\n",
        "    'department': 700,            # common dept\n",
        "    'salary_range': 1200,         # a bit high, could raise flags\n",
        "    'telecommuting': 1,           # remote job (sometimes exploited)\n",
        "    'has_company_logo': 0,        # no logo (slightly suspicious)\n",
        "    'has_questions': 1,           # has screening questions (legit trait)\n",
        "    'employment_type': 2,         # part-time (less red flags than contract)\n",
        "    'required_experience': 1,     # entry-level\n",
        "    'required_education': 2,      # high school/diploma\n",
        "    'industry': 100,              # somewhat vague industry\n",
        "    'function': 25,               # a bit uncommon\n",
        "    'non_https_links': 1.0,       # contains 1 non-https link\n",
        "    'id_info_requested': 0.0,     # no ID asked (good)\n",
        "    'avg_days_offer': 6,          # fast offer (can be legit or sus)\n",
        "    'avg_urgent_terms': 1,        # 1 urgent term (mild baiting)\n",
        "    'avg_bait_phrases': 2         # some bait phrases (suspicious)\n",
        "}])\n",
        "\n",
        "y_pred = loaded_model.predict(new_row_data)\n",
        "y_proba = loaded_model.predict_proba(new_row_data)\n",
        "\n",
        "predicted_class = 'Fraudulent' if y_pred[0] == 1 else 'Legitimate'\n",
        "\n",
        "print(f\"Predicted Class: {predicted_class}\")\n",
        "print(f\"Predicted Probabilities: Legitimate = {y_proba[0][0]:.4f}, Scam = {y_proba[0][1]:.4f}\")\n"
      ],
      "metadata": {
        "colab": {
          "base_uri": "https://localhost:8080/"
        },
        "id": "dLC9iZgTRlED",
        "outputId": "52453b76-0c43-4f25-8b81-ab35d1034239"
      },
      "execution_count": null,
      "outputs": [
        {
          "output_type": "stream",
          "name": "stdout",
          "text": [
            "Predicted Class: Fraudulent\n",
            "Predicted Probabilities: Legitimate = 0.4527, Scam = 0.5473\n"
          ]
        }
      ]
    }
  ]
}